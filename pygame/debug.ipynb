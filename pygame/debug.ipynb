{
 "cells": [
  {
   "cell_type": "code",
   "execution_count": 7,
   "metadata": {},
   "outputs": [
    {
     "name": "stdout",
     "output_type": "stream",
     "text": [
      "<Event(32774-WindowShown {'window': None})> 32774\n"
     ]
    },
    {
     "data": {
      "image/jpeg": "[encoded data removed]",
      "image/png": "[encoded data removed]",
      "text/plain": [
       "<PIL.PngImagePlugin.PngImageFile image mode=RGB size=800x600>"
      ]
     },
     "metadata": {},
     "output_type": "display_data"
    }
   ],
   "source": [
    "import os\n",
    "import pygame\n",
    "from PIL import Image\n",
    "\n",
    "# 配置环境变量以使用 xvfb 虚拟显示器\n",
    "os.environ[\"SDL_VIDEODRIVER\"] = \"dummy\"\n",
    "os.environ[\"DISPLAY\"] = \":1\"\n",
    "\n",
    "# 初始化 PyGame\n",
    "pygame.init()\n",
    "\n",
    "# 设置窗口大小和标题\n",
    "screen = pygame.display.set_mode((800, 600))\n",
    "pygame.display.set_caption(\"PyGame Environment Rendering\")\n",
    "\n",
    "# 绘制内容并保存截图\n",
    "running = True\n",
    "while running:\n",
    "    for event in pygame.event.get():\n",
    "        print(event,event.type)\n",
    "        if event.type == pygame.QUIT:\n",
    "            running = False\n",
    "\n",
    "    screen.fill((255, 255, 255))  # 填充白色背景\n",
    "    pygame.display.flip()\n",
    "\n",
    "    # 保存屏幕截图\n",
    "    pygame.image.save(screen, \"screenshot.png\")\n",
    "    running = False\n",
    "\n",
    "pygame.quit()\n",
    "\n",
    "# 显示截图\n",
    "img = Image.open(\"screenshot.png\")\n",
    "img.show()"
   ]
  },
  {
   "cell_type": "code",
   "execution_count": 13,
   "metadata": {},
   "outputs": [],
   "source": [
    "from smac.env import StarCraft2Env\n",
    "import numpy as np\n",
    "\n",
    "\n",
    "def main():\n",
    "    env = StarCraft2Env(map_name=\"8m\")\n",
    "    env_info = env.get_env_info()\n",
    "\n",
    "    n_actions = env_info[\"n_actions\"]\n",
    "    n_agents = env_info[\"n_agents\"]\n",
    "\n",
    "    n_episodes = 10\n",
    "\n",
    "    for e in range(n_episodes):\n",
    "        env.reset()\n",
    "        terminated = False\n",
    "        episode_reward = 0\n",
    "\n",
    "        while not terminated:\n",
    "            obs = env.get_obs()\n",
    "            state = env.get_state()\n",
    "            # env.render()  # Uncomment for rendering\n",
    "\n",
    "            actions = []\n",
    "            for agent_id in range(n_agents):\n",
    "                avail_actions = env.get_avail_agent_actions(agent_id)\n",
    "                avail_actions_ind = np.nonzero(avail_actions)[0]\n",
    "                action = np.random.choice(avail_actions_ind)\n",
    "                actions.append(action)\n",
    "\n",
    "            reward, terminated, _ = env.step(actions)\n",
    "            episode_reward += reward\n",
    "\n",
    "        print(\"Total reward in episode {} = {}\".format(e, episode_reward))\n",
    "\n",
    "    env.close()\n"
   ]
  },
  {
   "cell_type": "code",
   "execution_count": 12,
   "metadata": {},
   "outputs": [
    {
     "ename": "ModuleNotFoundError",
     "evalue": "No module named 'smacv2'",
     "output_type": "error",
     "traceback": [
      "\u001b[0;31m---------------------------------------------------------------------------\u001b[0m",
      "\u001b[0;31mModuleNotFoundError\u001b[0m                       Traceback (most recent call last)",
      "Cell \u001b[0;32mIn[12], line 6\u001b[0m\n\u001b[1;32m      3\u001b[0m \u001b[38;5;28;01mfrom\u001b[39;00m \u001b[38;5;21;01m__future__\u001b[39;00m \u001b[38;5;28;01mimport\u001b[39;00m print_function\n\u001b[1;32m      4\u001b[0m \u001b[38;5;28;01mfrom\u001b[39;00m \u001b[38;5;21;01mos\u001b[39;00m \u001b[38;5;28;01mimport\u001b[39;00m replace\n\u001b[0;32m----> 6\u001b[0m \u001b[38;5;28;01mfrom\u001b[39;00m \u001b[38;5;21;01msmacv2\u001b[39;00m\u001b[38;5;21;01m.\u001b[39;00m\u001b[38;5;21;01menv\u001b[39;00m \u001b[38;5;28;01mimport\u001b[39;00m StarCraft2Env\n\u001b[1;32m      7\u001b[0m \u001b[38;5;28;01mimport\u001b[39;00m \u001b[38;5;21;01mnumpy\u001b[39;00m \u001b[38;5;28;01mas\u001b[39;00m \u001b[38;5;21;01mnp\u001b[39;00m\n\u001b[1;32m      8\u001b[0m \u001b[38;5;28;01mfrom\u001b[39;00m \u001b[38;5;21;01mabsl\u001b[39;00m \u001b[38;5;28;01mimport\u001b[39;00m logging\n",
      "\u001b[0;31mModuleNotFoundError\u001b[0m: No module named 'smacv2'"
     ]
    }
   ],
   "source": [
    "from __future__ import absolute_import\n",
    "from __future__ import division\n",
    "from __future__ import print_function\n",
    "from os import replace\n",
    "\n",
    "from smacv2.env import StarCraft2Env\n",
    "import numpy as np\n",
    "from absl import logging\n",
    "import time\n",
    "\n",
    "from smacv2.env.starcraft2.wrapper import StarCraftCapabilityEnvWrapper\n",
    "\n",
    "logging.set_verbosity(logging.DEBUG)\n",
    "\n",
    "def main():\n",
    "\n",
    "    distribution_config = {\n",
    "        \"n_units\": 5,\n",
    "        \"n_enemies\": 5,\n",
    "        \"team_gen\": {\n",
    "            \"dist_type\": \"weighted_teams\",\n",
    "            \"unit_types\": [\"marine\", \"marauder\", \"medivac\"],\n",
    "            \"exception_unit_types\": [\"medivac\"],\n",
    "            \"weights\": [0.45, 0.45, 0.1],\n",
    "            \"observe\": True,\n",
    "        },\n",
    "        \"start_positions\": {\n",
    "            \"dist_type\": \"surrounded_and_reflect\",\n",
    "            \"p\": 0.5,\n",
    "            \"n_enemies\": 5,\n",
    "            \"map_x\": 32,\n",
    "            \"map_y\": 32,\n",
    "        },\n",
    "    }\n",
    "    env = StarCraftCapabilityEnvWrapper(\n",
    "        capability_config=distribution_config,\n",
    "        map_name=\"10gen_terran\",\n",
    "        debug=True,\n",
    "        conic_fov=False,\n",
    "        obs_own_pos=True,\n",
    "        use_unit_ranges=True,\n",
    "        min_attack_range=2,\n",
    "    )\n",
    "\n",
    "    env_info = env.get_env_info()\n",
    "\n",
    "    n_actions = env_info[\"n_actions\"]\n",
    "    n_agents = env_info[\"n_agents\"]\n",
    "\n",
    "    n_episodes = 10\n",
    "\n",
    "    print(\"Training episodes\")\n",
    "    for e in range(n_episodes):\n",
    "        env.reset()\n",
    "        terminated = False\n",
    "        episode_reward = 0\n",
    "\n",
    "        while not terminated:\n",
    "            obs = env.get_obs()\n",
    "            state = env.get_state()\n",
    "            # env.render()  # Uncomment for rendering\n",
    "\n",
    "            actions = []\n",
    "            for agent_id in range(n_agents):\n",
    "                avail_actions = env.get_avail_agent_actions(agent_id)\n",
    "                avail_actions_ind = np.nonzero(avail_actions)[0]\n",
    "                action = np.random.choice(avail_actions_ind)\n",
    "                actions.append(action)\n",
    "\n",
    "            reward, terminated, _ = env.step(actions)\n",
    "            time.sleep(0.15)\n",
    "            episode_reward += reward\n",
    "        print(\"Total reward in episode {} = {}\".format(e, episode_reward))"
   ]
  },
  {
   "cell_type": "code",
   "execution_count": 14,
   "metadata": {},
   "outputs": [
    {
     "ename": "AttributeError",
     "evalue": "module 'websocket' has no attribute 'WebSocketConnectionClosedException'",
     "output_type": "error",
     "traceback": [
      "\u001b[0;31m---------------------------------------------------------------------------\u001b[0m",
      "\u001b[0;31mAttributeError\u001b[0m                            Traceback (most recent call last)",
      "File \u001b[0;32m/usr/local/lib/python3.10/dist-packages/pysc2/lib/remote_controller.py:165\u001b[0m, in \u001b[0;36mRemoteController._connect\u001b[0;34m(self, host, port, proc, timeout_seconds)\u001b[0m\n\u001b[1;32m    164\u001b[0m \u001b[38;5;28;01mtry\u001b[39;00m:\n\u001b[0;32m--> 165\u001b[0m   \u001b[38;5;28;01mreturn\u001b[39;00m \u001b[43mwebsocket\u001b[49m\u001b[38;5;241;43m.\u001b[39;49m\u001b[43mcreate_connection\u001b[49m(url, timeout\u001b[38;5;241m=\u001b[39mtimeout_seconds)\n\u001b[1;32m    166\u001b[0m \u001b[38;5;28;01mexcept\u001b[39;00m socket\u001b[38;5;241m.\u001b[39merror:\n",
      "\u001b[0;31mAttributeError\u001b[0m: module 'websocket' has no attribute 'create_connection'",
      "\nDuring handling of the above exception, another exception occurred:\n",
      "\u001b[0;31mAttributeError\u001b[0m                            Traceback (most recent call last)",
      "Cell \u001b[0;32mIn[14], line 1\u001b[0m\n\u001b[0;32m----> 1\u001b[0m \u001b[43mmain\u001b[49m\u001b[43m(\u001b[49m\u001b[43m)\u001b[49m\n",
      "Cell \u001b[0;32mIn[13], line 15\u001b[0m, in \u001b[0;36mmain\u001b[0;34m()\u001b[0m\n\u001b[1;32m     12\u001b[0m n_episodes \u001b[38;5;241m=\u001b[39m \u001b[38;5;241m10\u001b[39m\n\u001b[1;32m     14\u001b[0m \u001b[38;5;28;01mfor\u001b[39;00m e \u001b[38;5;129;01min\u001b[39;00m \u001b[38;5;28mrange\u001b[39m(n_episodes):\n\u001b[0;32m---> 15\u001b[0m     \u001b[43menv\u001b[49m\u001b[38;5;241;43m.\u001b[39;49m\u001b[43mreset\u001b[49m\u001b[43m(\u001b[49m\u001b[43m)\u001b[49m\n\u001b[1;32m     16\u001b[0m     terminated \u001b[38;5;241m=\u001b[39m \u001b[38;5;28;01mFalse\u001b[39;00m\n\u001b[1;32m     17\u001b[0m     episode_reward \u001b[38;5;241m=\u001b[39m \u001b[38;5;241m0\u001b[39m\n",
      "File \u001b[0;32m/usr/local/lib/python3.10/dist-packages/smac/env/starcraft2/starcraft2.py:403\u001b[0m, in \u001b[0;36mStarCraft2Env.reset\u001b[0;34m(self)\u001b[0m\n\u001b[1;32m    400\u001b[0m \u001b[38;5;28mself\u001b[39m\u001b[38;5;241m.\u001b[39m_episode_steps \u001b[38;5;241m=\u001b[39m \u001b[38;5;241m0\u001b[39m\n\u001b[1;32m    401\u001b[0m \u001b[38;5;28;01mif\u001b[39;00m \u001b[38;5;28mself\u001b[39m\u001b[38;5;241m.\u001b[39m_episode_count \u001b[38;5;241m==\u001b[39m \u001b[38;5;241m0\u001b[39m:\n\u001b[1;32m    402\u001b[0m     \u001b[38;5;66;03m# Launch StarCraft II\u001b[39;00m\n\u001b[0;32m--> 403\u001b[0m     \u001b[38;5;28;43mself\u001b[39;49m\u001b[38;5;241;43m.\u001b[39;49m\u001b[43m_launch\u001b[49m\u001b[43m(\u001b[49m\u001b[43m)\u001b[49m\n\u001b[1;32m    404\u001b[0m \u001b[38;5;28;01melse\u001b[39;00m:\n\u001b[1;32m    405\u001b[0m     \u001b[38;5;28mself\u001b[39m\u001b[38;5;241m.\u001b[39m_restart()\n",
      "File \u001b[0;32m/usr/local/lib/python3.10/dist-packages/smac/env/starcraft2/starcraft2.py:323\u001b[0m, in \u001b[0;36mStarCraft2Env._launch\u001b[0;34m(self)\u001b[0m\n\u001b[1;32m    321\u001b[0m \u001b[38;5;66;03m# Setting up the interface\u001b[39;00m\n\u001b[1;32m    322\u001b[0m interface_options \u001b[38;5;241m=\u001b[39m sc_pb\u001b[38;5;241m.\u001b[39mInterfaceOptions(raw\u001b[38;5;241m=\u001b[39m\u001b[38;5;28;01mTrue\u001b[39;00m, score\u001b[38;5;241m=\u001b[39m\u001b[38;5;28;01mFalse\u001b[39;00m)\n\u001b[0;32m--> 323\u001b[0m \u001b[38;5;28mself\u001b[39m\u001b[38;5;241m.\u001b[39m_sc2_proc \u001b[38;5;241m=\u001b[39m \u001b[38;5;28;43mself\u001b[39;49m\u001b[38;5;241;43m.\u001b[39;49m\u001b[43m_run_config\u001b[49m\u001b[38;5;241;43m.\u001b[39;49m\u001b[43mstart\u001b[49m\u001b[43m(\u001b[49m\n\u001b[1;32m    324\u001b[0m \u001b[43m    \u001b[49m\u001b[43mwindow_size\u001b[49m\u001b[38;5;241;43m=\u001b[39;49m\u001b[38;5;28;43mself\u001b[39;49m\u001b[38;5;241;43m.\u001b[39;49m\u001b[43mwindow_size\u001b[49m\u001b[43m,\u001b[49m\u001b[43m \u001b[49m\u001b[43mwant_rgb\u001b[49m\u001b[38;5;241;43m=\u001b[39;49m\u001b[38;5;28;43;01mFalse\u001b[39;49;00m\n\u001b[1;32m    325\u001b[0m \u001b[43m\u001b[49m\u001b[43m)\u001b[49m\n\u001b[1;32m    326\u001b[0m \u001b[38;5;28mself\u001b[39m\u001b[38;5;241m.\u001b[39m_controller \u001b[38;5;241m=\u001b[39m \u001b[38;5;28mself\u001b[39m\u001b[38;5;241m.\u001b[39m_sc2_proc\u001b[38;5;241m.\u001b[39mcontroller\n\u001b[1;32m    328\u001b[0m \u001b[38;5;66;03m# Request to create the game\u001b[39;00m\n",
      "File \u001b[0;32m/usr/local/lib/python3.10/dist-packages/pysc2/run_configs/platforms.py:200\u001b[0m, in \u001b[0;36mLinux.start\u001b[0;34m(self, want_rgb, **kwargs)\u001b[0m\n\u001b[1;32m    195\u001b[0m     extra_args \u001b[38;5;241m+\u001b[39m\u001b[38;5;241m=\u001b[39m [\u001b[38;5;124m\"\u001b[39m\u001b[38;5;124m-headlessNoRender\u001b[39m\u001b[38;5;124m\"\u001b[39m]\n\u001b[1;32m    196\u001b[0m     logging\u001b[38;5;241m.\u001b[39minfo(\n\u001b[1;32m    197\u001b[0m         \u001b[38;5;124m\"\u001b[39m\u001b[38;5;124mNo GL library found, so RGB rendering will be disabled. \u001b[39m\u001b[38;5;124m\"\u001b[39m\n\u001b[1;32m    198\u001b[0m         \u001b[38;5;124m\"\u001b[39m\u001b[38;5;124mFor software rendering install libosmesa.\u001b[39m\u001b[38;5;124m\"\u001b[39m)\n\u001b[0;32m--> 200\u001b[0m \u001b[38;5;28;01mreturn\u001b[39;00m \u001b[38;5;28;43msuper\u001b[39;49m\u001b[43m(\u001b[49m\u001b[43mLinux\u001b[49m\u001b[43m,\u001b[49m\u001b[43m \u001b[49m\u001b[38;5;28;43mself\u001b[39;49m\u001b[43m)\u001b[49m\u001b[38;5;241;43m.\u001b[39;49m\u001b[43mstart\u001b[49m\u001b[43m(\u001b[49m\n\u001b[1;32m    201\u001b[0m \u001b[43m    \u001b[49m\u001b[43mwant_rgb\u001b[49m\u001b[38;5;241;43m=\u001b[39;49m\u001b[43mwant_rgb\u001b[49m\u001b[43m,\u001b[49m\u001b[43m \u001b[49m\u001b[43mextra_args\u001b[49m\u001b[38;5;241;43m=\u001b[39;49m\u001b[43mextra_args\u001b[49m\u001b[43m,\u001b[49m\u001b[43m \u001b[49m\u001b[38;5;241;43m*\u001b[39;49m\u001b[38;5;241;43m*\u001b[39;49m\u001b[43mkwargs\u001b[49m\u001b[43m)\u001b[49m\n",
      "File \u001b[0;32m/usr/local/lib/python3.10/dist-packages/pysc2/run_configs/platforms.py:83\u001b[0m, in \u001b[0;36mLocalBase.start\u001b[0;34m(***failed resolving arguments***)\u001b[0m\n\u001b[1;32m     80\u001b[0m \u001b[38;5;28;01mif\u001b[39;00m \u001b[38;5;129;01mnot\u001b[39;00m os\u001b[38;5;241m.\u001b[39mpath\u001b[38;5;241m.\u001b[39mexists(exec_path):\n\u001b[1;32m     81\u001b[0m   \u001b[38;5;28;01mraise\u001b[39;00m sc_process\u001b[38;5;241m.\u001b[39mSC2LaunchError(\u001b[38;5;124m\"\u001b[39m\u001b[38;5;124mNo SC2 binary found at: \u001b[39m\u001b[38;5;132;01m%s\u001b[39;00m\u001b[38;5;124m\"\u001b[39m \u001b[38;5;241m%\u001b[39m exec_path)\n\u001b[0;32m---> 83\u001b[0m \u001b[38;5;28;01mreturn\u001b[39;00m \u001b[43msc_process\u001b[49m\u001b[38;5;241;43m.\u001b[39;49m\u001b[43mStarcraftProcess\u001b[49m\u001b[43m(\u001b[49m\n\u001b[1;32m     84\u001b[0m \u001b[43m    \u001b[49m\u001b[38;5;28;43mself\u001b[39;49m\u001b[43m,\u001b[49m\u001b[43m \u001b[49m\u001b[43mexec_path\u001b[49m\u001b[38;5;241;43m=\u001b[39;49m\u001b[43mexec_path\u001b[49m\u001b[43m,\u001b[49m\u001b[43m \u001b[49m\u001b[43mversion\u001b[49m\u001b[38;5;241;43m=\u001b[39;49m\u001b[38;5;28;43mself\u001b[39;49m\u001b[38;5;241;43m.\u001b[39;49m\u001b[43mversion\u001b[49m\u001b[43m,\u001b[49m\u001b[43m \u001b[49m\u001b[38;5;241;43m*\u001b[39;49m\u001b[38;5;241;43m*\u001b[39;49m\u001b[43mkwargs\u001b[49m\u001b[43m)\u001b[49m\n",
      "File \u001b[0;32m/usr/local/lib/python3.10/dist-packages/pysc2/lib/sc_process.py:137\u001b[0m, in \u001b[0;36mStarcraftProcess.__init__\u001b[0;34m(self, run_config, exec_path, version, full_screen, extra_args, verbose, host, port, connect, timeout_seconds, window_size, window_loc, **kwargs)\u001b[0m\n\u001b[1;32m    135\u001b[0m       \u001b[38;5;28mself\u001b[39m\u001b[38;5;241m.\u001b[39m_proc \u001b[38;5;241m=\u001b[39m \u001b[38;5;28mself\u001b[39m\u001b[38;5;241m.\u001b[39m_launch(run_config, args, \u001b[38;5;241m*\u001b[39m\u001b[38;5;241m*\u001b[39mkwargs)\n\u001b[1;32m    136\u001b[0m     \u001b[38;5;28;01mif\u001b[39;00m connect:\n\u001b[0;32m--> 137\u001b[0m       \u001b[38;5;28mself\u001b[39m\u001b[38;5;241m.\u001b[39m_controller \u001b[38;5;241m=\u001b[39m \u001b[43mremote_controller\u001b[49m\u001b[38;5;241;43m.\u001b[39;49m\u001b[43mRemoteController\u001b[49m\u001b[43m(\u001b[49m\n\u001b[1;32m    138\u001b[0m \u001b[43m          \u001b[49m\u001b[38;5;28;43mself\u001b[39;49m\u001b[38;5;241;43m.\u001b[39;49m\u001b[43m_host\u001b[49m\u001b[43m,\u001b[49m\u001b[43m \u001b[49m\u001b[38;5;28;43mself\u001b[39;49m\u001b[38;5;241;43m.\u001b[39;49m\u001b[43m_port\u001b[49m\u001b[43m,\u001b[49m\u001b[43m \u001b[49m\u001b[38;5;28;43mself\u001b[39;49m\u001b[43m,\u001b[49m\u001b[43m \u001b[49m\u001b[43mtimeout_seconds\u001b[49m\u001b[38;5;241;43m=\u001b[39;49m\u001b[43mtimeout_seconds\u001b[49m\u001b[43m)\u001b[49m\n\u001b[1;32m    139\u001b[0m \u001b[38;5;28;01mexcept\u001b[39;00m:\n\u001b[1;32m    140\u001b[0m   \u001b[38;5;28mself\u001b[39m\u001b[38;5;241m.\u001b[39mclose()\n",
      "File \u001b[0;32m/usr/local/lib/python3.10/dist-packages/pysc2/lib/remote_controller.py:142\u001b[0m, in \u001b[0;36mRemoteController.__init__\u001b[0;34m(self, host, port, proc, timeout_seconds)\u001b[0m\n\u001b[1;32m    140\u001b[0m \u001b[38;5;28;01mdef\u001b[39;00m \u001b[38;5;21m__init__\u001b[39m(\u001b[38;5;28mself\u001b[39m, host, port, proc\u001b[38;5;241m=\u001b[39m\u001b[38;5;28;01mNone\u001b[39;00m, timeout_seconds\u001b[38;5;241m=\u001b[39m\u001b[38;5;28;01mNone\u001b[39;00m):\n\u001b[1;32m    141\u001b[0m   timeout_seconds \u001b[38;5;241m=\u001b[39m timeout_seconds \u001b[38;5;129;01mor\u001b[39;00m FLAGS\u001b[38;5;241m.\u001b[39msc2_timeout\n\u001b[0;32m--> 142\u001b[0m   sock \u001b[38;5;241m=\u001b[39m \u001b[38;5;28;43mself\u001b[39;49m\u001b[38;5;241;43m.\u001b[39;49m\u001b[43m_connect\u001b[49m\u001b[43m(\u001b[49m\u001b[43mhost\u001b[49m\u001b[43m,\u001b[49m\u001b[43m \u001b[49m\u001b[43mport\u001b[49m\u001b[43m,\u001b[49m\u001b[43m \u001b[49m\u001b[43mproc\u001b[49m\u001b[43m,\u001b[49m\u001b[43m \u001b[49m\u001b[43mtimeout_seconds\u001b[49m\u001b[43m)\u001b[49m\n\u001b[1;32m    143\u001b[0m   \u001b[38;5;28mself\u001b[39m\u001b[38;5;241m.\u001b[39m_client \u001b[38;5;241m=\u001b[39m protocol\u001b[38;5;241m.\u001b[39mStarcraftProtocol(sock)\n\u001b[1;32m    144\u001b[0m   \u001b[38;5;28mself\u001b[39m\u001b[38;5;241m.\u001b[39m_last_obs \u001b[38;5;241m=\u001b[39m \u001b[38;5;28;01mNone\u001b[39;00m\n",
      "File \u001b[0;32m/usr/local/lib/python3.10/dist-packages/pysc2/lib/stopwatch.py:205\u001b[0m, in \u001b[0;36mStopWatch.decorate.<locals>.decorator.<locals>._stopwatch\u001b[0;34m(*args, **kwargs)\u001b[0m\n\u001b[1;32m    202\u001b[0m \u001b[38;5;129m@functools\u001b[39m\u001b[38;5;241m.\u001b[39mwraps(func)\n\u001b[1;32m    203\u001b[0m \u001b[38;5;28;01mdef\u001b[39;00m \u001b[38;5;21m_stopwatch\u001b[39m(\u001b[38;5;241m*\u001b[39margs, \u001b[38;5;241m*\u001b[39m\u001b[38;5;241m*\u001b[39mkwargs):\n\u001b[1;32m    204\u001b[0m   \u001b[38;5;28;01mwith\u001b[39;00m \u001b[38;5;28mself\u001b[39m(name):\n\u001b[0;32m--> 205\u001b[0m     \u001b[38;5;28;01mreturn\u001b[39;00m \u001b[43mfunc\u001b[49m\u001b[43m(\u001b[49m\u001b[38;5;241;43m*\u001b[39;49m\u001b[43margs\u001b[49m\u001b[43m,\u001b[49m\u001b[43m \u001b[49m\u001b[38;5;241;43m*\u001b[39;49m\u001b[38;5;241;43m*\u001b[39;49m\u001b[43mkwargs\u001b[49m\u001b[43m)\u001b[49m\n",
      "File \u001b[0;32m/usr/local/lib/python3.10/dist-packages/pysc2/lib/remote_controller.py:168\u001b[0m, in \u001b[0;36mRemoteController._connect\u001b[0;34m(self, host, port, proc, timeout_seconds)\u001b[0m\n\u001b[1;32m    166\u001b[0m \u001b[38;5;28;01mexcept\u001b[39;00m socket\u001b[38;5;241m.\u001b[39merror:\n\u001b[1;32m    167\u001b[0m   \u001b[38;5;28;01mpass\u001b[39;00m  \u001b[38;5;66;03m# SC2 hasn't started listening yet.\u001b[39;00m\n\u001b[0;32m--> 168\u001b[0m \u001b[38;5;28;01mexcept\u001b[39;00m \u001b[43mwebsocket\u001b[49m\u001b[38;5;241;43m.\u001b[39;49m\u001b[43mWebSocketConnectionClosedException\u001b[49m:\n\u001b[1;32m    169\u001b[0m   \u001b[38;5;28;01mraise\u001b[39;00m ConnectError(\u001b[38;5;124m\"\u001b[39m\u001b[38;5;124mConnection rejected. Is something else connected?\u001b[39m\u001b[38;5;124m\"\u001b[39m)\n\u001b[1;32m    170\u001b[0m \u001b[38;5;28;01mexcept\u001b[39;00m websocket\u001b[38;5;241m.\u001b[39mWebSocketBadStatusException \u001b[38;5;28;01mas\u001b[39;00m err:\n",
      "\u001b[0;31mAttributeError\u001b[0m: module 'websocket' has no attribute 'WebSocketConnectionClosedException'"
     ]
    }
   ],
   "source": [
    "main()"
   ]
  }
 ],
 "metadata": {
  "kernelspec": {
   "display_name": "Python 3",
   "language": "python",
   "name": "python3"
  },
  "language_info": {
   "codemirror_mode": {
    "name": "ipython",
    "version": 3
   },
   "file_extension": ".py",
   "mimetype": "text/x-python",
   "name": "python",
   "nbconvert_exporter": "python",
   "pygments_lexer": "ipython3",
   "version": "3.10.12"
  }
 },
 "nbformat": 4,
 "nbformat_minor": 2
}
