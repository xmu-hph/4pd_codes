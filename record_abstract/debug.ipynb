{
 "cells": [
  {
   "cell_type": "code",
   "execution_count": 3,
   "metadata": {
    "metadata": {}
   },
   "outputs": [
    {
     "data": {
      "text/plain": [
       "'As an AI, I don\\'t have emotions, but I\\'m always \"ready\" to assist you. How can I help you today?'"
      ]
     },
     "execution_count": 3,
     "metadata": {},
     "output_type": "execute_result"
    }
   ],
   "source": [
    "from openai import OpenAI\n",
    "from openai import APIConnectionError\n",
    "import json\n",
    "client = OpenAI(\n",
    "        base_url=\"http://172.28.4.42:10086/v1\",\n",
    "        api_key=\"123456\",\n",
    "    )\n",
    "probe_query = \"Are you ready?!\"\n",
    "response = client.chat.completions.create(\n",
    "              model=\"llm\",\n",
    "              messages=[\n",
    "                {\"role\": \"user\", \"content\": probe_query}\n",
    "              ]\n",
    "            )\n",
    "response = json.loads(response.model_dump_json())\n",
    "response['choices'][0]['message']['content']"
   ]
  },
  {
   "cell_type": "code",
   "execution_count": 1,
   "metadata": {
    "metadata": {}
   },
   "outputs": [
    {
     "name": "stdout",
     "output_type": "stream",
     "text": [
      "每天我都喜欢寂静安然的与文字相依。\n",
      "\n",
      "远离城市喧嚣与尘土，学会了真正的独处。\n",
      "\n",
      "独拥一笼清欢，独享一段时光。\n",
      "\n",
      "在文里轻歌漫舞，心的阴晴绘成画写成诗。\n",
      "\n",
      "喜欢享受这样简单生活带来的恬淡与舒适。已习惯用文字提高思想的升华与进步。\n"
     ]
    }
   ],
   "source": [
    "import requests\n",
    "request_data = {\n",
    "        \"content\": \"每天我都喜欢寂静安然的与文字相依，远离城市喧嚣与尘土，不是因为寂寞孤单，而是学会了真正的独处，独拥一笼清欢，独享一段时光，尽情的在文里轻歌漫舞，心的阴晴绘成画写成诗，已喜欢享受这样简单生活带来的恬淡与舒适。已习惯用文字提高思想的升华与进步。\"\n",
    "    }\n",
    "response = requests.post(\"http://172.28.4.42:80/api/v1/generation/summarization\", json=request_data)\n",
    "assert response.status_code == 200\n",
    "response_data = response.json()\n",
    "assert \"summarization\" in response_data\n",
    "assert \"paragraphSummary\" in response_data[\"summarization\"]\n",
    "print(response_data[\"summarization\"][\"paragraphSummary\"])"
   ]
  },
  {
   "cell_type": "code",
   "execution_count": 2,
   "metadata": {
    "metadata": {}
   },
   "outputs": [
    {
     "data": {
      "text/plain": [
       "'每天我都喜欢寂静安然的与文字相依。\\n\\n远离城市喧嚣与尘土，学会了真正的独处。\\n\\n独拥一笼清欢，独享一段时光。\\n\\n在文里轻歌漫舞，心的阴晴绘成画写成诗。\\n\\n喜欢享受这样简单生活带来的恬淡与舒适。已习惯用文字提高思想的升华与进步。'"
      ]
     },
     "execution_count": 2,
     "metadata": {},
     "output_type": "execute_result"
    }
   ],
   "source": [
    "response_data[\"summarization\"][\"paragraphSummary\"]"
   ]
  }
 ],
 "metadata": {
  "kernelspec": {
   "display_name": "Python 3 (ipykernel)",
   "language": "python",
   "name": "python3"
  },
  "language_info": {
   "codemirror_mode": {
    "name": "ipython",
    "version": 3
   },
   "file_extension": ".py",
   "mimetype": "text/x-python",
   "name": "python",
   "nbconvert_exporter": "python",
   "pygments_lexer": "ipython3",
   "version": "3.10.12"
  }
 },
 "nbformat": 4,
 "nbformat_minor": 2
}
