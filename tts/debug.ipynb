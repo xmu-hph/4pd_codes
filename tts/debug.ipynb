{
 "cells": [
  {
   "cell_type": "code",
   "execution_count": 6,
   "metadata": {},
   "outputs": [],
   "source": [
    "import librosa\n",
    "#使用sf读取wav文件\n",
    "import soundfile as sf\n",
    "# 指定要读取的wav文件路径\n",
    "file_path = './examples/default.wav'\n",
    "# 使用soundfile库读取wav文件\n",
    "data, samplerate = sf.read(file_path)\n",
    "resampled_audio = librosa.resample(data, orig_sr=24000, target_sr=44000)"
   ]
  },
  {
   "cell_type": "code",
   "execution_count": 7,
   "metadata": {},
   "outputs": [
    {
     "data": {
      "text/plain": [
       "199228"
      ]
     },
     "execution_count": 7,
     "metadata": {},
     "output_type": "execute_result"
    }
   ],
   "source": [
    "len(data)"
   ]
  },
  {
   "cell_type": "code",
   "execution_count": 3,
   "metadata": {},
   "outputs": [
    {
     "data": {
      "image/png": "[encoded data removed]",
      "text/plain": [
       "<Figure size 640x480 with 1 Axes>"
      ]
     },
     "metadata": {},
     "output_type": "display_data"
    }
   ],
   "source": [
    "import numpy as np\n",
    "import matplotlib.pyplot as plt\n",
    "\n",
    "# 生成 n 的值，这里选择 1 到 1000 之间的整数\n",
    "n_values = np.arange(1, 50)\n",
    "\n",
    "# 计算 1/n 的值\n",
    "inv_n_values = 1 / n_values\n",
    "\n",
    "# 绘制频率分布直方图\n",
    "plt.hist(inv_n_values, bins=30, edgecolor='black', alpha=0.7)\n",
    "\n",
    "# 设置标题和标签\n",
    "plt.title('Frequency Distribution of $1/n$ in the interval (0, 1]')\n",
    "plt.xlabel('$1/n$ values')\n",
    "plt.ylabel('Frequency')\n",
    "\n",
    "# 显示图形\n",
    "plt.show()\n"
   ]
  },
  {
   "cell_type": "code",
   "execution_count": 5,
   "metadata": {},
   "outputs": [],
   "source": [
    "import requests\n",
    "import base64\n",
    "import numpy as np\n",
    "import librosa\n",
    "import soundfile as sf\n",
    "\n",
    "# 定义请求的URL\n",
    "url = \"http://172.28.4.43:80/v1/tts\"\n",
    "\n",
    "# 定义请求的数据\n",
    "request_data = {\n",
    "    \"text\": \"而你，我的朋友，你是真正的英雄\",\n",
    "    \"voice_name\": \"default\",\n",
    "    \"language\": \"zh\"\n",
    "}\n",
    "\n",
    "# 发送POST请求\n",
    "response = requests.post(url, json=request_data)\n",
    "import torchaudio\n",
    "import torch\n",
    "# 检查响应状态码\n",
    "if response.status_code == 200:\n",
    "    # 从响应中提取Base64编码的音频数据\n",
    "    response_data = response.json()\n",
    "    data = response_data.get(\"audio\")\n",
    "    data = np.frombuffer(base64.b64decode(data), dtype=np.float32)\n",
    "    torchaudio.save('output.wav', torch.tensor(data).unsqueeze(0), 24000)\n",
    "else:\n",
    "    print(f\"请求失败，状态码：{response.status_code}\")\n",
    "    print(\"响应内容：\", response.text)"
   ]
  },
  {
   "cell_type": "code",
   "execution_count": 8,
   "metadata": {},
   "outputs": [
    {
     "name": "stdout",
     "output_type": "stream",
     "text": [
      "Config response: {\"success\": true}\n"
     ]
    },
    {
     "name": "stdout",
     "output_type": "stream",
     "text": [
      "音频文件已保存为output.wav\n"
     ]
    }
   ],
   "source": [
    "import asyncio\n",
    "import websockets\n",
    "import json\n",
    "import base64\n",
    "import numpy as np\n",
    "import librosa\n",
    "import torch\n",
    "import torchaudio\n",
    "import soundfile as sf\n",
    "import nest_asyncio\n",
    "nest_asyncio.apply()\n",
    "\n",
    "async def receive_audio_data(uri):\n",
    "    async with websockets.connect(uri) as websocket:\n",
    "        # 发送配置消息\n",
    "        config_message = json.dumps({\n",
    "            \"language\": \"zh\",\n",
    "            \"voice_name\": \"default\",\n",
    "            \"sample_rate\": 16000,\n",
    "            \"channel\": 1,\n",
    "            \"format\": \"pcm\",\n",
    "            \"bits\": 16\n",
    "        })\n",
    "        await websocket.send(config_message)\n",
    "\n",
    "        # 接收确认消息\n",
    "        response = await websocket.recv()\n",
    "        print(\"Config response:\", response)\n",
    "\n",
    "        # 发送文本消息\n",
    "        text_message = json.dumps({\"text\": \"在小小的花园里面挖呀挖呀挖\"})\n",
    "        await websocket.send(text_message)\n",
    "\n",
    "        audio_data_list = []\n",
    "\n",
    "        while True:\n",
    "            try:\n",
    "                # 接收数据\n",
    "                message = await websocket.recv()\n",
    "                response = json.loads(message)\n",
    "                seq = response.get(\"audio_block_seq\")\n",
    "                audio_status = response.get(\"audio_status\")\n",
    "                base64_audio_data = response.get(\"data\")\n",
    "                # 解码Base64字符串\n",
    "                audio_data = base64.b64decode(base64_audio_data)\n",
    "                # 仅在audio_status不为2时处理音频数据\n",
    "                # 将解码后的二进制数据转换为NumPy数组\n",
    "                audio_array = np.frombuffer(audio_data, dtype=np.float32)\n",
    "                audio_data_list.append(torch.tensor(audio_array))\n",
    "                if audio_status == 2:\n",
    "                    break\n",
    "                '''\n",
    "                if audio_status == 2 or seq == 0:\n",
    "                    if audio_status == 2:\n",
    "                        break\n",
    "                    else:\n",
    "                        continue\n",
    "                else:\n",
    "                    # 解码Base64字符串\n",
    "                    audio_data = base64.b64decode(base64_audio_data)\n",
    "                    # 仅在audio_status不为2时处理音频数据\n",
    "                    # 将解码后的二进制数据转换为NumPy数组\n",
    "                    audio_array = np.frombuffer(audio_data, dtype=np.float32)\n",
    "                    audio_data_list.append(torch.tensor(audio_array))\n",
    "                '''\n",
    "            except websockets.exceptions.ConnectionClosed:\n",
    "                print(\"Connection closed\")\n",
    "                break\n",
    "        result = torch.cat(audio_data_list)\n",
    "        torchaudio.save('output_stream_24000.wav', result.unsqueeze(0), 24000)\n",
    "        print(\"音频文件已保存为output.wav\")\n",
    "\n",
    "asyncio.get_event_loop().run_until_complete(receive_audio_data(\"ws://172.28.4.43:80/stream/tts\"))\n"
   ]
  },
  {
   "cell_type": "code",
   "execution_count": 3,
   "metadata": {},
   "outputs": [
    {
     "name": "stdout",
     "output_type": "stream",
     "text": [
      "Status Code: 200\n",
      "Response JSON: {'voice_name': 'test_voice', 'status': 2}\n"
     ]
    }
   ],
   "source": [
    "import requests\n",
    "import base64\n",
    "import soundfile as sf\n",
    "import json\n",
    "\n",
    "# 读取示例音频文件并编码为Base64\n",
    "def read_audio_file(file_path):\n",
    "    with open(file_path, \"rb\") as audio_file:\n",
    "        audio_bytes = audio_file.read()\n",
    "    audio_base64 = base64.b64encode(audio_bytes).decode(\"utf-8\")\n",
    "    return audio_base64\n",
    "\n",
    "# 准备请求数据\n",
    "audio_file_path = \"./examples/default.wav\"\n",
    "audio_base64 = read_audio_file(audio_file_path)\n",
    "voice_name = \"test_voice\"\n",
    "\n",
    "# 构建请求数据\n",
    "request_data = {\n",
    "    \"audios\": {\n",
    "        \"audio_bytes\": audio_base64,\n",
    "        \"audio_format\": \"wav\"\n",
    "    },\n",
    "    \"voice_name\": voice_name\n",
    "}\n",
    "\n",
    "# 发送POST请求\n",
    "url = \"http://172.28.4.43:80/internal/v1/voice-clone\"\n",
    "response = requests.post(url, json=request_data)\n",
    "\n",
    "# 打印响应\n",
    "print(\"Status Code:\", response.status_code)\n",
    "print(\"Response JSON:\", response.json())"
   ]
  }
 ],
 "metadata": {
  "kernelspec": {
   "display_name": "Python 3",
   "language": "python",
   "name": "python3"
  },
  "language_info": {
   "codemirror_mode": {
    "name": "ipython",
    "version": 3
   },
   "file_extension": ".py",
   "mimetype": "text/x-python",
   "name": "python",
   "nbconvert_exporter": "python",
   "pygments_lexer": "ipython3",
   "version": "3.10.12"
  }
 },
 "nbformat": 4,
 "nbformat_minor": 2
}
