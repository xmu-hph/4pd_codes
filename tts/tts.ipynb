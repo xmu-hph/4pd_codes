{
 "cells": [
  {
   "cell_type": "code",
   "execution_count": null,
   "metadata": {},
   "outputs": [],
   "source": [
    "char_embedding_length= 768\n",
    "last_hidden_embedding_length = 768\n",
    "freq_length = \n",
    "#自回归估计频率、幅值、相位\n",
    "#自回归不行的话用注意力"
   ]
  },
  {
   "cell_type": "code",
   "execution_count": null,
   "metadata": {},
   "outputs": [],
   "source": [
    "#使用sf读取wav文件\n",
    "import soundfile as sf\n",
    "# 指定要读取的wav文件路径\n",
    "file_path = '/home/mnt/tts_self/examples/default.wav'\n",
    "# 使用soundfile库读取wav文件\n",
    "data, samplerate = sf.read(file_path)\n",
    "# data是一个numpy数组，包含了音频数据的采样值\n",
    "# samplerate是采样率，即每秒的采样数\n",
    "# 打印一些基本信息\n",
    "print(f'音频数据 shape: {data.shape}')\n",
    "print(f'采样率: {samplerate} Hz')\n",
    "# 采样点数 199228，采样率44100，采样周期1/44100，采样时长为199228/44100\n",
    "# 对上面的波文件进行离散傅里叶变换。\n",
    "# 目前来看，要想用这个离散傅里叶变换理论，频域采样点数也需要为N，但是我们肯定不能这样做。只能固定的做。\n",
    "# 加个掩码，时长选择为1000\n",
    "# 每分钟160-170个字"
   ]
  },
  {
   "cell_type": "code",
   "execution_count": null,
   "metadata": {},
   "outputs": [],
   "source": [
    "import matplotlib.pyplot as plt\n",
    "import numpy as np\n",
    "# 绘制频谱图\n",
    "# 示例输入信号，假设为正弦波\n",
    "freq = samplerate\n",
    "T = 1 / freq  # 采样周期\n",
    "L = len(data)/freq  # 信号长度为1秒\n",
    "N = len(data)  # 采样点数量)\n",
    "t = np.array(list(range(len(data))))*T\n",
    "x_t = data\n",
    "# 绘制时间域信号 x_discrete(t)\n",
    "plt.figure(figsize=(10, 4))\n",
    "#plt.plot(t[0:30], x_t[0:30])\n",
    "plt.stem(t[1550:1600], x_t[1550:1600], basefmt=\" \")\n",
    "plt.title('$x_{discrete}(t)$')\n",
    "plt.xlabel('Time [s]')\n",
    "plt.ylabel('Amplitude')\n",
    "plt.grid()\n",
    "plt.show()"
   ]
  },
  {
   "cell_type": "code",
   "execution_count": null,
   "metadata": {},
   "outputs": [],
   "source": [
    "import math\n",
    "np.array(list(range(int(N/500))))/L"
   ]
  },
  {
   "cell_type": "code",
   "execution_count": null,
   "metadata": {},
   "outputs": [],
   "source": [
    "omega = np.linspace(0, 2*np.pi, 40, endpoint=False)  # 时间向量\n",
    "#x_t range(N) T\n",
    "y = [(np.cos(ome*T*np.array(list(range(N))))*x_t).sum() for ome in omega]\n",
    "# 绘制时间域信号 x_discrete(t)\n",
    "plt.figure(figsize=(10, 4))\n",
    "#plt.plot(t[0:30], x_t[0:30])\n",
    "plt.stem(omega, y, basefmt=\" \")\n",
    "plt.title('$x_{discrete}(t)$')\n",
    "plt.xlabel('Time [s]')\n",
    "plt.ylabel('Amplitude')\n",
    "plt.grid()\n",
    "plt.show()"
   ]
  },
  {
   "cell_type": "code",
   "execution_count": null,
   "metadata": {},
   "outputs": [],
   "source": [
    "omega = np.linspace(0, 2*np.pi, 40, endpoint=False)  # 时间向量\n",
    "#x_t range(N) T\n",
    "y = [(np.sin(ome*T*np.array(list(range(N))))*x_t).sum() for ome in omega]\n",
    "# 绘制时间域信号 x_discrete(t)\n",
    "plt.figure(figsize=(10, 4))\n",
    "#plt.plot(t[0:30], x_t[0:30])\n",
    "plt.stem(omega, y, basefmt=\" \")\n",
    "plt.title('$x_{discrete}(t)$')\n",
    "plt.xlabel('Time [s]')\n",
    "plt.ylabel('Amplitude')\n",
    "plt.grid()\n",
    "plt.show()"
   ]
  },
  {
   "cell_type": "code",
   "execution_count": null,
   "metadata": {},
   "outputs": [],
   "source": [
    "# 你要想用他们的结论，就需要走他们的路\n",
    "# 如果你想走自己的路，就要自己发现结论"
   ]
  }
 ],
 "metadata": {
  "language_info": {
   "name": "python"
  }
 },
 "nbformat": 4,
 "nbformat_minor": 2
}
